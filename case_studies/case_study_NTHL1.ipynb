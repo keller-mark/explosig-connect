{
 "cells": [
  {
   "cell_type": "markdown",
   "metadata": {},
   "source": [
    "Note: One of the goals of ExploSig is enabling analysis of mutational signatures and clinical/molecular datasets simultaneously. The ExploSig Browser (http://explosig.lrgr.io) provides tools for initial exploration and simple statistics with stratification and filtering of samples, but there are currently no statistical tests that can be performed within the tool. The NTHL1 case study we describe was performed with the ExploSig Browser. This notebook reproduces the steps of that visual exploration programmatically with processed data obtained using the ExploSig Connect package, enabling further quantitative analysis."
   ]
  },
  {
   "cell_type": "code",
   "execution_count": 80,
   "metadata": {},
   "outputs": [],
   "source": [
    "import numpy as np\n",
    "from scipy import stats"
   ]
  },
  {
   "cell_type": "code",
   "execution_count": 3,
   "metadata": {},
   "outputs": [],
   "source": [
    "from explosig_connect import connect\n",
    "\n",
    "projects = ['TCGA-BRCA_BRCA_mc3.v0.2.8.WXS']\n",
    "signatures = [\"COSMIC %d\" % x for x in [1, 2, 3, 5, 6, 8, 13, 17, 18, 20, 26, 30]]\n",
    "genes = ['NTHL1', 'BRCA1', 'BRCA2']"
   ]
  },
  {
   "cell_type": "markdown",
   "metadata": {},
   "source": [
    "### Get processed data from ExploSig Server"
   ]
  },
  {
   "cell_type": "code",
   "execution_count": 20,
   "metadata": {},
   "outputs": [],
   "source": [
    "conn = connect(empty=True, how=None)\n",
    "exps_df = conn.get_exposures(projects, signatures, 'SBS')\n",
    "gene_exp_df = conn.get_gene_expression_data(genes, projects)\n",
    "gene_mut_df = conn.get_gene_mutation_data(genes, projects)\n",
    "gene_cna_df = conn.get_copy_number_data(genes, projects)"
   ]
  },
  {
   "cell_type": "markdown",
   "metadata": {},
   "source": [
    "### Filter and stratify samples"
   ]
  },
  {
   "cell_type": "code",
   "execution_count": 50,
   "metadata": {
    "scrolled": true
   },
   "outputs": [
    {
     "name": "stdout",
     "output_type": "stream",
     "text": [
      "1020 samples\n"
     ]
    }
   ],
   "source": [
    "print(f\"{exps_df.shape[0]} samples\")"
   ]
  },
  {
   "cell_type": "markdown",
   "metadata": {},
   "source": [
    "Filter to restrict to samples with wildtype BRCA1 and wildtype BRCA2"
   ]
  },
  {
   "cell_type": "code",
   "execution_count": 56,
   "metadata": {},
   "outputs": [
    {
     "name": "stdout",
     "output_type": "stream",
     "text": [
      "57 samples have mut BRCA1 and/or mut BRCA2\n",
      "963 samples have wildtype BRCA1 and wildtype BRCA2\n"
     ]
    }
   ],
   "source": [
    "BRCA_mut_samples = gene_mut_df.loc[(gene_mut_df[\"BRCA1\"] != \"None\") | (gene_mut_df[\"BRCA2\"] != \"None\")].index.values.tolist()\n",
    "BRCA_wt_samples = gene_mut_df.loc[(gene_mut_df[\"BRCA1\"] == \"None\") & (gene_mut_df[\"BRCA2\"] == \"None\")].index.values.tolist()\n",
    "\n",
    "print(f\"{len(BRCA_mut_samples)} samples have mut BRCA1 and/or mut BRCA2\")\n",
    "print(f\"{len(BRCA_wt_samples)} samples have wildtype BRCA1 and wildtype BRCA2\")"
   ]
  },
  {
   "cell_type": "code",
   "execution_count": 57,
   "metadata": {},
   "outputs": [
    {
     "name": "stdout",
     "output_type": "stream",
     "text": [
      "57 samples have mut BRCA1 and/or mut BRCA2, and also have exposures data\n",
      "963 samples have wildtype BRCA1 and wildtype BRCA2, and also have exposures data\n"
     ]
    }
   ],
   "source": [
    "BRCA_mut_exps_df = exps_df.loc[BRCA_mut_samples, :]\n",
    "BRCA_wt_exps_df = exps_df.loc[BRCA_wt_samples, :]\n",
    "\n",
    "print(f\"{BRCA_mut_exps_df.shape[0]} samples have mut BRCA1 and/or mut BRCA2, and also have exposures data\")\n",
    "print(f\"{BRCA_wt_exps_df.shape[0]} samples have wildtype BRCA1 and wildtype BRCA2, and also have exposures data\")"
   ]
  },
  {
   "cell_type": "markdown",
   "metadata": {},
   "source": [
    "Distribution of COSMIC 3 exposure values for BRCA1/2 mutant samples"
   ]
  },
  {
   "cell_type": "code",
   "execution_count": 53,
   "metadata": {},
   "outputs": [
    {
     "data": {
      "text/html": [
       "<div>\n",
       "<style scoped>\n",
       "    .dataframe tbody tr th:only-of-type {\n",
       "        vertical-align: middle;\n",
       "    }\n",
       "\n",
       "    .dataframe tbody tr th {\n",
       "        vertical-align: top;\n",
       "    }\n",
       "\n",
       "    .dataframe thead th {\n",
       "        text-align: right;\n",
       "    }\n",
       "</style>\n",
       "<table border=\"1\" class=\"dataframe\">\n",
       "  <thead>\n",
       "    <tr style=\"text-align: right;\">\n",
       "      <th></th>\n",
       "      <th>COSMIC 3</th>\n",
       "    </tr>\n",
       "  </thead>\n",
       "  <tbody>\n",
       "    <tr>\n",
       "      <th>count</th>\n",
       "      <td>57.000000</td>\n",
       "    </tr>\n",
       "    <tr>\n",
       "      <th>mean</th>\n",
       "      <td>39.197164</td>\n",
       "    </tr>\n",
       "    <tr>\n",
       "      <th>std</th>\n",
       "      <td>40.932146</td>\n",
       "    </tr>\n",
       "    <tr>\n",
       "      <th>min</th>\n",
       "      <td>0.000000</td>\n",
       "    </tr>\n",
       "    <tr>\n",
       "      <th>25%</th>\n",
       "      <td>4.984054</td>\n",
       "    </tr>\n",
       "    <tr>\n",
       "      <th>50%</th>\n",
       "      <td>33.650903</td>\n",
       "    </tr>\n",
       "    <tr>\n",
       "      <th>75%</th>\n",
       "      <td>60.120945</td>\n",
       "    </tr>\n",
       "    <tr>\n",
       "      <th>max</th>\n",
       "      <td>156.641167</td>\n",
       "    </tr>\n",
       "  </tbody>\n",
       "</table>\n",
       "</div>"
      ],
      "text/plain": [
       "         COSMIC 3\n",
       "count   57.000000\n",
       "mean    39.197164\n",
       "std     40.932146\n",
       "min      0.000000\n",
       "25%      4.984054\n",
       "50%     33.650903\n",
       "75%     60.120945\n",
       "max    156.641167"
      ]
     },
     "execution_count": 53,
     "metadata": {},
     "output_type": "execute_result"
    }
   ],
   "source": [
    "BRCA_mut_cosmic_3_exposure_stats = BRCA_mut_exps_df.describe()[\"COSMIC 3\"]\n",
    "BRCA_mut_cosmic_3_exposure_stats.to_frame()"
   ]
  },
  {
   "cell_type": "markdown",
   "metadata": {},
   "source": [
    "Distribution of COSMIC 3 exposure values for BRCA1/2 wildtype samples "
   ]
  },
  {
   "cell_type": "code",
   "execution_count": 54,
   "metadata": {},
   "outputs": [
    {
     "data": {
      "text/html": [
       "<div>\n",
       "<style scoped>\n",
       "    .dataframe tbody tr th:only-of-type {\n",
       "        vertical-align: middle;\n",
       "    }\n",
       "\n",
       "    .dataframe tbody tr th {\n",
       "        vertical-align: top;\n",
       "    }\n",
       "\n",
       "    .dataframe thead th {\n",
       "        text-align: right;\n",
       "    }\n",
       "</style>\n",
       "<table border=\"1\" class=\"dataframe\">\n",
       "  <thead>\n",
       "    <tr style=\"text-align: right;\">\n",
       "      <th></th>\n",
       "      <th>COSMIC 3</th>\n",
       "    </tr>\n",
       "  </thead>\n",
       "  <tbody>\n",
       "    <tr>\n",
       "      <th>count</th>\n",
       "      <td>9.630000e+02</td>\n",
       "    </tr>\n",
       "    <tr>\n",
       "      <th>mean</th>\n",
       "      <td>1.286567e+01</td>\n",
       "    </tr>\n",
       "    <tr>\n",
       "      <th>std</th>\n",
       "      <td>2.496890e+01</td>\n",
       "    </tr>\n",
       "    <tr>\n",
       "      <th>min</th>\n",
       "      <td>0.000000e+00</td>\n",
       "    </tr>\n",
       "    <tr>\n",
       "      <th>25%</th>\n",
       "      <td>6.612271e-17</td>\n",
       "    </tr>\n",
       "    <tr>\n",
       "      <th>50%</th>\n",
       "      <td>2.273541e+00</td>\n",
       "    </tr>\n",
       "    <tr>\n",
       "      <th>75%</th>\n",
       "      <td>1.350781e+01</td>\n",
       "    </tr>\n",
       "    <tr>\n",
       "      <th>max</th>\n",
       "      <td>1.869085e+02</td>\n",
       "    </tr>\n",
       "  </tbody>\n",
       "</table>\n",
       "</div>"
      ],
      "text/plain": [
       "           COSMIC 3\n",
       "count  9.630000e+02\n",
       "mean   1.286567e+01\n",
       "std    2.496890e+01\n",
       "min    0.000000e+00\n",
       "25%    6.612271e-17\n",
       "50%    2.273541e+00\n",
       "75%    1.350781e+01\n",
       "max    1.869085e+02"
      ]
     },
     "execution_count": 54,
     "metadata": {},
     "output_type": "execute_result"
    }
   ],
   "source": [
    "BRCA_wt_cosmic_3_exposure_stats = BRCA_wt_exps_df.describe()[\"COSMIC 3\"]\n",
    "BRCA_wt_cosmic_3_exposure_stats.to_frame()"
   ]
  },
  {
   "cell_type": "markdown",
   "metadata": {},
   "source": [
    "### Stratification of BRCA1/2 wildtype samples by NTHL1 gene expression level"
   ]
  },
  {
   "cell_type": "code",
   "execution_count": 77,
   "metadata": {},
   "outputs": [
    {
     "name": "stdout",
     "output_type": "stream",
     "text": [
      "92 BRCA1/2 wildtype samples with overexpression of NTHL1\n",
      "871 BRCA1/2 wildtype samples with non-differential expression of NTHL1\n"
     ]
    }
   ],
   "source": [
    "BRCA_wt_gene_exp_df = gene_exp_df.loc[BRCA_wt_samples, :]\n",
    "BRCA_wt_NTHL1_gene_exp_sample_groups = BRCA_wt_gene_exp_df.groupby(\"NTHL1\").groups\n",
    "BRCA_wt_NTHL1_overexp_cosmic_3_df = BRCA_wt_exps_df.loc[BRCA_wt_NTHL1_gene_exp_sample_groups[\"Over\"].values.tolist(), :]\n",
    "BRCA_wt_NTHL1_nondiffexp_cosmic_3_df = BRCA_wt_exps_df.loc[BRCA_wt_NTHL1_gene_exp_sample_groups[\"Not differentially expressed\"].values.tolist(), :]\n",
    "\n",
    "print(f\"{BRCA_wt_NTHL1_overexp_cosmic_3_df.shape[0]} BRCA1/2 wildtype samples with overexpression of NTHL1\")\n",
    "print(f\"{BRCA_wt_NTHL1_nondiffexp_cosmic_3_df.shape[0]} BRCA1/2 wildtype samples with non-differential expression of NTHL1\")"
   ]
  },
  {
   "cell_type": "markdown",
   "metadata": {},
   "source": [
    "Distribution of COSMIC 3 exposure values for BRCA1/2 wildtype AND overexpressed NTHL1 samples"
   ]
  },
  {
   "cell_type": "code",
   "execution_count": 74,
   "metadata": {
    "scrolled": true
   },
   "outputs": [
    {
     "data": {
      "text/html": [
       "<div>\n",
       "<style scoped>\n",
       "    .dataframe tbody tr th:only-of-type {\n",
       "        vertical-align: middle;\n",
       "    }\n",
       "\n",
       "    .dataframe tbody tr th {\n",
       "        vertical-align: top;\n",
       "    }\n",
       "\n",
       "    .dataframe thead th {\n",
       "        text-align: right;\n",
       "    }\n",
       "</style>\n",
       "<table border=\"1\" class=\"dataframe\">\n",
       "  <thead>\n",
       "    <tr style=\"text-align: right;\">\n",
       "      <th></th>\n",
       "      <th>COSMIC 3</th>\n",
       "    </tr>\n",
       "  </thead>\n",
       "  <tbody>\n",
       "    <tr>\n",
       "      <th>count</th>\n",
       "      <td>9.200000e+01</td>\n",
       "    </tr>\n",
       "    <tr>\n",
       "      <th>mean</th>\n",
       "      <td>1.285349e+01</td>\n",
       "    </tr>\n",
       "    <tr>\n",
       "      <th>std</th>\n",
       "      <td>2.566682e+01</td>\n",
       "    </tr>\n",
       "    <tr>\n",
       "      <th>min</th>\n",
       "      <td>0.000000e+00</td>\n",
       "    </tr>\n",
       "    <tr>\n",
       "      <th>25%</th>\n",
       "      <td>2.007702e-16</td>\n",
       "    </tr>\n",
       "    <tr>\n",
       "      <th>50%</th>\n",
       "      <td>2.450169e+00</td>\n",
       "    </tr>\n",
       "    <tr>\n",
       "      <th>75%</th>\n",
       "      <td>1.251392e+01</td>\n",
       "    </tr>\n",
       "    <tr>\n",
       "      <th>max</th>\n",
       "      <td>1.310209e+02</td>\n",
       "    </tr>\n",
       "  </tbody>\n",
       "</table>\n",
       "</div>"
      ],
      "text/plain": [
       "           COSMIC 3\n",
       "count  9.200000e+01\n",
       "mean   1.285349e+01\n",
       "std    2.566682e+01\n",
       "min    0.000000e+00\n",
       "25%    2.007702e-16\n",
       "50%    2.450169e+00\n",
       "75%    1.251392e+01\n",
       "max    1.310209e+02"
      ]
     },
     "execution_count": 74,
     "metadata": {},
     "output_type": "execute_result"
    }
   ],
   "source": [
    "BRCA_wt_NTHL1_overexp_cosmic_3_exposure_stats = BRCA_wt_NTHL1_overexp_cosmic_3_df.describe()[\"COSMIC 3\"]\n",
    "BRCA_wt_NTHL1_overexp_cosmic_3_exposure_stats.to_frame()"
   ]
  },
  {
   "cell_type": "markdown",
   "metadata": {},
   "source": [
    "Distribution of COSMIC 3 exposure values for BRCA1/2 wildtype AND non-differentially-expressed NTHL1 samples"
   ]
  },
  {
   "cell_type": "code",
   "execution_count": 78,
   "metadata": {
    "scrolled": true
   },
   "outputs": [
    {
     "data": {
      "text/html": [
       "<div>\n",
       "<style scoped>\n",
       "    .dataframe tbody tr th:only-of-type {\n",
       "        vertical-align: middle;\n",
       "    }\n",
       "\n",
       "    .dataframe tbody tr th {\n",
       "        vertical-align: top;\n",
       "    }\n",
       "\n",
       "    .dataframe thead th {\n",
       "        text-align: right;\n",
       "    }\n",
       "</style>\n",
       "<table border=\"1\" class=\"dataframe\">\n",
       "  <thead>\n",
       "    <tr style=\"text-align: right;\">\n",
       "      <th></th>\n",
       "      <th>COSMIC 3</th>\n",
       "    </tr>\n",
       "  </thead>\n",
       "  <tbody>\n",
       "    <tr>\n",
       "      <th>count</th>\n",
       "      <td>8.710000e+02</td>\n",
       "    </tr>\n",
       "    <tr>\n",
       "      <th>mean</th>\n",
       "      <td>1.286696e+01</td>\n",
       "    </tr>\n",
       "    <tr>\n",
       "      <th>std</th>\n",
       "      <td>2.490916e+01</td>\n",
       "    </tr>\n",
       "    <tr>\n",
       "      <th>min</th>\n",
       "      <td>0.000000e+00</td>\n",
       "    </tr>\n",
       "    <tr>\n",
       "      <th>25%</th>\n",
       "      <td>5.757342e-17</td>\n",
       "    </tr>\n",
       "    <tr>\n",
       "      <th>50%</th>\n",
       "      <td>2.245123e+00</td>\n",
       "    </tr>\n",
       "    <tr>\n",
       "      <th>75%</th>\n",
       "      <td>1.354028e+01</td>\n",
       "    </tr>\n",
       "    <tr>\n",
       "      <th>max</th>\n",
       "      <td>1.869085e+02</td>\n",
       "    </tr>\n",
       "  </tbody>\n",
       "</table>\n",
       "</div>"
      ],
      "text/plain": [
       "           COSMIC 3\n",
       "count  8.710000e+02\n",
       "mean   1.286696e+01\n",
       "std    2.490916e+01\n",
       "min    0.000000e+00\n",
       "25%    5.757342e-17\n",
       "50%    2.245123e+00\n",
       "75%    1.354028e+01\n",
       "max    1.869085e+02"
      ]
     },
     "execution_count": 78,
     "metadata": {},
     "output_type": "execute_result"
    }
   ],
   "source": [
    "BRCA_wt_NTHL1_nondiffexp_cosmic_3_exposure_stats = BRCA_wt_NTHL1_nondiffexp_cosmic_3_df.describe()[\"COSMIC 3\"]\n",
    "BRCA_wt_NTHL1_nondiffexp_cosmic_3_exposure_stats.to_frame()"
   ]
  },
  {
   "cell_type": "markdown",
   "metadata": {},
   "source": [
    "T-test to compare the means of these two groups"
   ]
  },
  {
   "cell_type": "code",
   "execution_count": 92,
   "metadata": {},
   "outputs": [
    {
     "name": "stdout",
     "output_type": "stream",
     "text": [
      "p-value: 0.9961772499647088\n"
     ]
    }
   ],
   "source": [
    "NTHL1_gene_exp_ttest = stats.ttest_ind(BRCA_wt_NTHL1_overexp_cosmic_3_df[\"COSMIC 3\"].values, BRCA_wt_NTHL1_nondiffexp_cosmic_3_df[\"COSMIC 3\"].values, equal_var=False)\n",
    "print(f\"p-value: {NTHL1_gene_exp_ttest.pvalue}\")"
   ]
  },
  {
   "cell_type": "markdown",
   "metadata": {},
   "source": [
    "### Stratification of BRCA1/2 wildtype samples by NTHL1 copy number status"
   ]
  },
  {
   "cell_type": "code",
   "execution_count": null,
   "metadata": {},
   "outputs": [],
   "source": []
  }
 ],
 "metadata": {
  "@webio": {
   "lastCommId": null,
   "lastKernelId": null
  },
  "kernelspec": {
   "display_name": "Python 3",
   "language": "python",
   "name": "python3"
  },
  "language_info": {
   "codemirror_mode": {
    "name": "ipython",
    "version": 3
   },
   "file_extension": ".py",
   "mimetype": "text/x-python",
   "name": "python",
   "nbconvert_exporter": "python",
   "pygments_lexer": "ipython3",
   "version": "3.8.0"
  }
 },
 "nbformat": 4,
 "nbformat_minor": 2
}
