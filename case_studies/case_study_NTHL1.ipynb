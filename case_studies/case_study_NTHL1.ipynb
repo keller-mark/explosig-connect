{
 "cells": [
  {
   "cell_type": "markdown",
   "metadata": {},
   "source": [
    "Note: One of the goals of ExploSig is enabling analysis of mutational signatures and clinical/molecular datasets simultaneously. The ExploSig Browser (http://explosig.lrgr.io) provides tools for initial exploration and simple statistics with stratification and filtering of samples, but there are currently no statistical tests that can be performed within the tool. The NTHL1 case study we describe was performed with the ExploSig Browser. This notebook reproduces the steps of that visual exploration programmatically with processed data obtained using the ExploSig Connect package, enabling further quantitative analysis."
   ]
  },
  {
   "cell_type": "code",
   "execution_count": 1,
   "metadata": {},
   "outputs": [],
   "source": [
    "import numpy as np\n",
    "from scipy import stats"
   ]
  },
  {
   "cell_type": "code",
   "execution_count": 2,
   "metadata": {},
   "outputs": [],
   "source": [
    "from explosig_connect import connect\n",
    "\n",
    "projects = ['TCGA-BRCA_BRCA_mc3.v0.2.8.WXS']\n",
    "signatures = [\"COSMIC %d\" % x for x in [1, 2, 3, 5, 6, 8, 13, 17, 18, 20, 26, 30]]\n",
    "genes = ['NTHL1', 'BRCA1', 'BRCA2']"
   ]
  },
  {
   "cell_type": "markdown",
   "metadata": {},
   "source": [
    "### Get processed data from ExploSig Server"
   ]
  },
  {
   "cell_type": "code",
   "execution_count": null,
   "metadata": {},
   "outputs": [],
   "source": [
    "conn = connect(empty=True, how=None)\n",
    "exps_df = conn.get_exposures(projects, signatures, 'SBS')\n",
    "gene_exp_df = conn.get_gene_expression_data(genes, projects)\n",
    "gene_mut_df = conn.get_gene_mutation_data(genes, projects)\n",
    "gene_cna_df = conn.get_copy_number_data(genes, projects)"
   ]
  },
  {
   "cell_type": "markdown",
   "metadata": {},
   "source": [
    "### Filter and stratify samples"
   ]
  },
  {
   "cell_type": "code",
   "execution_count": null,
   "metadata": {
    "scrolled": true
   },
   "outputs": [],
   "source": [
    "print(f\"{exps_df.shape[0]} samples\")"
   ]
  },
  {
   "cell_type": "markdown",
   "metadata": {},
   "source": [
    "Filter to restrict to samples with wildtype BRCA1 and wildtype BRCA2"
   ]
  },
  {
   "cell_type": "code",
   "execution_count": null,
   "metadata": {},
   "outputs": [],
   "source": [
    "BRCA_mut_samples = gene_mut_df.loc[(gene_mut_df[\"BRCA1\"] != \"None\") | (gene_mut_df[\"BRCA2\"] != \"None\")].index.values.tolist()\n",
    "BRCA_wt_samples = gene_mut_df.loc[(gene_mut_df[\"BRCA1\"] == \"None\") & (gene_mut_df[\"BRCA2\"] == \"None\")].index.values.tolist()\n",
    "\n",
    "print(f\"{len(BRCA_mut_samples)} samples have mut BRCA1 and/or mut BRCA2\")\n",
    "print(f\"{len(BRCA_wt_samples)} samples have wildtype BRCA1 and wildtype BRCA2\")"
   ]
  },
  {
   "cell_type": "code",
   "execution_count": null,
   "metadata": {},
   "outputs": [],
   "source": [
    "BRCA_mut_exps_df = exps_df.loc[BRCA_mut_samples, :]\n",
    "BRCA_wt_exps_df = exps_df.loc[BRCA_wt_samples, :]\n",
    "\n",
    "print(f\"{BRCA_mut_exps_df.shape[0]} samples have mut BRCA1 and/or mut BRCA2, and also have exposures data\")\n",
    "print(f\"{BRCA_wt_exps_df.shape[0]} samples have wildtype BRCA1 and wildtype BRCA2, and also have exposures data\")"
   ]
  },
  {
   "cell_type": "markdown",
   "metadata": {},
   "source": [
    "Distribution of COSMIC 3 exposure values for BRCA1/2 mutant samples"
   ]
  },
  {
   "cell_type": "code",
   "execution_count": null,
   "metadata": {},
   "outputs": [],
   "source": [
    "BRCA_mut_cosmic_3_exposure_stats = BRCA_mut_exps_df.describe()[\"COSMIC 3\"]\n",
    "BRCA_mut_cosmic_3_exposure_stats.to_frame()"
   ]
  },
  {
   "cell_type": "markdown",
   "metadata": {},
   "source": [
    "Distribution of COSMIC 3 exposure values for BRCA1/2 wildtype samples "
   ]
  },
  {
   "cell_type": "code",
   "execution_count": null,
   "metadata": {},
   "outputs": [],
   "source": [
    "BRCA_wt_cosmic_3_exposure_stats = BRCA_wt_exps_df.describe()[\"COSMIC 3\"]\n",
    "BRCA_wt_cosmic_3_exposure_stats.to_frame()"
   ]
  },
  {
   "cell_type": "markdown",
   "metadata": {},
   "source": [
    "### Stratification of BRCA1/2 wildtype samples by NTHL1 gene expression level"
   ]
  },
  {
   "cell_type": "code",
   "execution_count": null,
   "metadata": {},
   "outputs": [],
   "source": [
    "BRCA_wt_gene_exp_df = gene_exp_df.loc[BRCA_wt_samples, :]\n",
    "BRCA_wt_NTHL1_gene_exp_sample_groups = BRCA_wt_gene_exp_df.groupby(\"NTHL1\").groups\n",
    "BRCA_wt_NTHL1_overexp_cosmic_3_df = BRCA_wt_exps_df.loc[BRCA_wt_NTHL1_gene_exp_sample_groups[\"Over\"].values.tolist(), :]\n",
    "BRCA_wt_NTHL1_nondiffexp_cosmic_3_df = BRCA_wt_exps_df.loc[BRCA_wt_NTHL1_gene_exp_sample_groups[\"Not differentially expressed\"].values.tolist(), :]\n",
    "\n",
    "print(f\"{BRCA_wt_NTHL1_overexp_cosmic_3_df.shape[0]} BRCA1/2 wildtype samples with overexpression of NTHL1\")\n",
    "print(f\"{BRCA_wt_NTHL1_nondiffexp_cosmic_3_df.shape[0]} BRCA1/2 wildtype samples with non-differential expression of NTHL1\")"
   ]
  },
  {
   "cell_type": "markdown",
   "metadata": {},
   "source": [
    "Distribution of COSMIC 3 exposure values for BRCA1/2 wildtype AND overexpressed NTHL1 samples"
   ]
  },
  {
   "cell_type": "code",
   "execution_count": null,
   "metadata": {
    "scrolled": true
   },
   "outputs": [],
   "source": [
    "BRCA_wt_NTHL1_overexp_cosmic_3_exposure_stats = BRCA_wt_NTHL1_overexp_cosmic_3_df.describe()[\"COSMIC 3\"]\n",
    "BRCA_wt_NTHL1_overexp_cosmic_3_exposure_stats.to_frame()"
   ]
  },
  {
   "cell_type": "markdown",
   "metadata": {},
   "source": [
    "Distribution of COSMIC 3 exposure values for BRCA1/2 wildtype AND non-differentially-expressed NTHL1 samples"
   ]
  },
  {
   "cell_type": "code",
   "execution_count": null,
   "metadata": {
    "scrolled": true
   },
   "outputs": [],
   "source": [
    "BRCA_wt_NTHL1_nondiffexp_cosmic_3_exposure_stats = BRCA_wt_NTHL1_nondiffexp_cosmic_3_df.describe()[\"COSMIC 3\"]\n",
    "BRCA_wt_NTHL1_nondiffexp_cosmic_3_exposure_stats.to_frame()"
   ]
  },
  {
   "cell_type": "markdown",
   "metadata": {},
   "source": [
    "T-test to compare the means of these two groups"
   ]
  },
  {
   "cell_type": "code",
   "execution_count": null,
   "metadata": {},
   "outputs": [],
   "source": [
    "NTHL1_gene_exp_ttest = stats.ttest_ind(\n",
    "    BRCA_wt_NTHL1_overexp_cosmic_3_df[\"COSMIC 3\"].values, \n",
    "    BRCA_wt_NTHL1_nondiffexp_cosmic_3_df[\"COSMIC 3\"].values, \n",
    "    equal_var=False\n",
    ")\n",
    "print(f\"p-value: {NTHL1_gene_exp_ttest.pvalue}\")"
   ]
  },
  {
   "cell_type": "markdown",
   "metadata": {},
   "source": [
    "ANOVA to compare the means of these two groups"
   ]
  },
  {
   "cell_type": "code",
   "execution_count": null,
   "metadata": {},
   "outputs": [],
   "source": [
    "NTHL1_gene_exp_anova = stats.f_oneway(\n",
    "    BRCA_wt_NTHL1_overexp_cosmic_3_df[\"COSMIC 3\"].values, \n",
    "    BRCA_wt_NTHL1_nondiffexp_cosmic_3_df[\"COSMIC 3\"].values\n",
    ")\n",
    "print(f\"p-value: {NTHL1_gene_exp_anova.pvalue}\")"
   ]
  },
  {
   "cell_type": "markdown",
   "metadata": {},
   "source": [
    "### Stratification of BRCA1/2 wildtype samples by NTHL1 copy number status"
   ]
  },
  {
   "cell_type": "code",
   "execution_count": null,
   "metadata": {
    "scrolled": true
   },
   "outputs": [],
   "source": [
    "BRCA_wt_gene_cna_df = gene_cna_df.loc[BRCA_wt_samples, :]\n",
    "BRCA_wt_NTHL1_gene_cna_sample_groups = BRCA_wt_gene_cna_df.groupby(\"NTHL1\").groups\n",
    "BRCA_wt_NTHL1_cna_n1_cosmic_3_df = BRCA_wt_exps_df.loc[BRCA_wt_NTHL1_gene_cna_sample_groups[\"-1\"].values.tolist(), :]\n",
    "BRCA_wt_NTHL1_cna_0_cosmic_3_df = BRCA_wt_exps_df.loc[BRCA_wt_NTHL1_gene_cna_sample_groups[\"0\"].values.tolist(), :]\n",
    "BRCA_wt_NTHL1_cna_p1_cosmic_3_df = BRCA_wt_exps_df.loc[BRCA_wt_NTHL1_gene_cna_sample_groups[\"1\"].values.tolist(), :]\n",
    "BRCA_wt_NTHL1_cna_p2_cosmic_3_df = BRCA_wt_exps_df.loc[BRCA_wt_NTHL1_gene_cna_sample_groups[\"2\"].values.tolist(), :]\n",
    "\n",
    "print(f\"{BRCA_wt_NTHL1_cna_n1_cosmic_3_df.shape[0]} BRCA1/2 wildtype samples with NTHL1 copy number of -1 (hemizygous deletion)\")\n",
    "print(f\"{BRCA_wt_NTHL1_cna_0_cosmic_3_df.shape[0]} BRCA1/2 wildtype samples with NTHL1 copy number of 0 (neutral)\")\n",
    "print(f\"{BRCA_wt_NTHL1_cna_p1_cosmic_3_df.shape[0]} BRCA1/2 wildtype samples with NTHL1 copy number of 1 (gain)\")\n",
    "print(f\"{BRCA_wt_NTHL1_cna_p2_cosmic_3_df.shape[0]} BRCA1/2 wildtype samples with NTHL1 copy number of 2 (high level amplification)\")"
   ]
  },
  {
   "cell_type": "markdown",
   "metadata": {},
   "source": [
    "Distribution of COSMIC 3 exposure values for BRCA1/2 wildtype AND NTHL1 copy number of -1 (hemizygous deletion) samples"
   ]
  },
  {
   "cell_type": "code",
   "execution_count": null,
   "metadata": {
    "scrolled": true
   },
   "outputs": [],
   "source": [
    "BRCA_wt_NTHL1_cna_n1_cosmic_3_exposure_stats = BRCA_wt_NTHL1_cna_n1_cosmic_3_df.describe()[\"COSMIC 3\"]\n",
    "BRCA_wt_NTHL1_cna_n1_cosmic_3_exposure_stats.to_frame()"
   ]
  },
  {
   "cell_type": "markdown",
   "metadata": {},
   "source": [
    "Distribution of COSMIC 3 exposure values for BRCA1/2 wildtype AND NTHL1 copy number of 0 (neutral) samples"
   ]
  },
  {
   "cell_type": "code",
   "execution_count": null,
   "metadata": {
    "scrolled": false
   },
   "outputs": [],
   "source": [
    "BRCA_wt_NTHL1_cna_0_cosmic_3_exposure_stats = BRCA_wt_NTHL1_cna_0_cosmic_3_df.describe()[\"COSMIC 3\"]\n",
    "BRCA_wt_NTHL1_cna_0_cosmic_3_exposure_stats.to_frame()"
   ]
  },
  {
   "cell_type": "markdown",
   "metadata": {},
   "source": [
    "Distribution of COSMIC 3 exposure values for BRCA1/2 wildtype AND NTHL1 copy number of 1 (gain) samples"
   ]
  },
  {
   "cell_type": "code",
   "execution_count": null,
   "metadata": {},
   "outputs": [],
   "source": [
    "BRCA_wt_NTHL1_cna_p1_cosmic_3_exposure_stats = BRCA_wt_NTHL1_cna_p1_cosmic_3_df.describe()[\"COSMIC 3\"]\n",
    "BRCA_wt_NTHL1_cna_p1_cosmic_3_exposure_stats.to_frame()"
   ]
  },
  {
   "cell_type": "markdown",
   "metadata": {},
   "source": [
    "Distribution of COSMIC 3 exposure values for BRCA1/2 wildtype AND NTHL1 copy number of 2 (high amplification) samples"
   ]
  },
  {
   "cell_type": "code",
   "execution_count": null,
   "metadata": {},
   "outputs": [],
   "source": [
    "BRCA_wt_NTHL1_cna_p2_cosmic_3_exposure_stats = BRCA_wt_NTHL1_cna_p2_cosmic_3_df.describe()[\"COSMIC 3\"]\n",
    "BRCA_wt_NTHL1_cna_p2_cosmic_3_exposure_stats.to_frame()"
   ]
  },
  {
   "cell_type": "markdown",
   "metadata": {},
   "source": [
    "ANOVA to compare the means of these four groups"
   ]
  },
  {
   "cell_type": "code",
   "execution_count": null,
   "metadata": {},
   "outputs": [],
   "source": [
    "NTHL1_gene_cna_anova = stats.f_oneway(\n",
    "    BRCA_wt_NTHL1_cna_n1_cosmic_3_df[\"COSMIC 3\"].values, \n",
    "    BRCA_wt_NTHL1_cna_0_cosmic_3_df[\"COSMIC 3\"].values,\n",
    "    BRCA_wt_NTHL1_cna_p1_cosmic_3_df[\"COSMIC 3\"].values,\n",
    "    BRCA_wt_NTHL1_cna_p2_cosmic_3_df[\"COSMIC 3\"].values\n",
    ")\n",
    "print(f\"p-value: {NTHL1_gene_cna_anova.pvalue}\")"
   ]
  },
  {
   "cell_type": "code",
   "execution_count": null,
   "metadata": {},
   "outputs": [],
   "source": []
  }
 ],
 "metadata": {
  "@webio": {
   "lastCommId": null,
   "lastKernelId": null
  },
  "kernelspec": {
   "display_name": "Python 3",
   "language": "python",
   "name": "python3"
  },
  "language_info": {
   "codemirror_mode": {
    "name": "ipython",
    "version": 3
   },
   "file_extension": ".py",
   "mimetype": "text/x-python",
   "name": "python",
   "nbconvert_exporter": "python",
   "pygments_lexer": "ipython3",
   "version": "3.8.0"
  }
 },
 "nbformat": 4,
 "nbformat_minor": 2
}
