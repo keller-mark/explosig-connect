{
 "cells": [
  {
   "cell_type": "markdown",
   "metadata": {},
   "source": [
    "# ExploSig Connect Demo\n",
    "## Association of ERCC2 and Signature 5* Example (Kim et al. Nature Genetics 2016)"
   ]
  },
  {
   "cell_type": "code",
   "execution_count": 1,
   "metadata": {},
   "outputs": [
    {
     "ename": "ModuleNotFoundError",
     "evalue": "No module named 'ardnmf'",
     "output_type": "error",
     "traceback": [
      "\u001b[0;31m---------------------------------------------------------------------------\u001b[0m",
      "\u001b[0;31mModuleNotFoundError\u001b[0m                       Traceback (most recent call last)",
      "\u001b[0;32m<ipython-input-1-f325f11e8634>\u001b[0m in \u001b[0;36m<module>\u001b[0;34m\u001b[0m\n\u001b[1;32m      1\u001b[0m \u001b[0;32mimport\u001b[0m \u001b[0msys\u001b[0m\u001b[0;34m,\u001b[0m \u001b[0mos\u001b[0m\u001b[0;34m,\u001b[0m \u001b[0mnumpy\u001b[0m \u001b[0;32mas\u001b[0m \u001b[0mnp\u001b[0m\u001b[0;34m,\u001b[0m \u001b[0mpandas\u001b[0m \u001b[0;32mas\u001b[0m \u001b[0mpd\u001b[0m\u001b[0;34m\u001b[0m\u001b[0;34m\u001b[0m\u001b[0m\n\u001b[0;32m----> 2\u001b[0;31m \u001b[0;32mfrom\u001b[0m \u001b[0mcase_study_ARDNMF_helpers\u001b[0m \u001b[0;32mimport\u001b[0m \u001b[0mextract_signatures_Kim2016\u001b[0m\u001b[0;34m\u001b[0m\u001b[0;34m\u001b[0m\u001b[0m\n\u001b[0m",
      "\u001b[0;32m~/Documents/UMD/lrgr/explosig/explosig-connect/case_studies/case_study_ARDNMF_helpers.py\u001b[0m in \u001b[0;36m<module>\u001b[0;34m\u001b[0m\n\u001b[1;32m      2\u001b[0m \u001b[0;34m\u001b[0m\u001b[0m\n\u001b[1;32m      3\u001b[0m \u001b[0msys\u001b[0m\u001b[0;34m.\u001b[0m\u001b[0mpath\u001b[0m\u001b[0;34m.\u001b[0m\u001b[0mappend\u001b[0m\u001b[0;34m(\u001b[0m\u001b[0mos\u001b[0m\u001b[0;34m.\u001b[0m\u001b[0mpath\u001b[0m\u001b[0;34m.\u001b[0m\u001b[0mabspath\u001b[0m\u001b[0;34m(\u001b[0m\u001b[0;34m''\u001b[0m\u001b[0;34m)\u001b[0m \u001b[0;34m+\u001b[0m \u001b[0;34m'/ardnmf/'\u001b[0m\u001b[0;34m)\u001b[0m\u001b[0;34m\u001b[0m\u001b[0;34m\u001b[0m\u001b[0m\n\u001b[0;32m----> 4\u001b[0;31m \u001b[0;32mfrom\u001b[0m \u001b[0mardnmf\u001b[0m \u001b[0;32mimport\u001b[0m \u001b[0mARDNMF\u001b[0m\u001b[0;34m,\u001b[0m \u001b[0mPRIORS\u001b[0m\u001b[0;34m,\u001b[0m \u001b[0mEXP_PRIOR\u001b[0m\u001b[0;34m\u001b[0m\u001b[0;34m\u001b[0m\u001b[0m\n\u001b[0m\u001b[1;32m      5\u001b[0m \u001b[0;34m\u001b[0m\u001b[0m\n\u001b[1;32m      6\u001b[0m \u001b[0;32mfrom\u001b[0m \u001b[0mscipy\u001b[0m\u001b[0;34m.\u001b[0m\u001b[0mstats\u001b[0m \u001b[0;32mimport\u001b[0m \u001b[0miqr\u001b[0m\u001b[0;34m\u001b[0m\u001b[0;34m\u001b[0m\u001b[0m\n",
      "\u001b[0;31mModuleNotFoundError\u001b[0m: No module named 'ardnmf'"
     ]
    }
   ],
   "source": [
    "import sys, os, numpy as np, pandas as pd\n",
    "from case_study_ARDNMF_helpers import extract_signatures_Kim2016"
   ]
  },
  {
   "cell_type": "markdown",
   "metadata": {},
   "source": [
    "### Step 0. Import `explosig_connect`\n",
    "- API documentation: https://lrgr.io/explosig-connect/"
   ]
  },
  {
   "cell_type": "code",
   "execution_count": 2,
   "metadata": {},
   "outputs": [],
   "source": [
    "from explosig_connect import connect"
   ]
  },
  {
   "cell_type": "markdown",
   "metadata": {},
   "source": [
    "### Step 1. Start a session and connect"
   ]
  },
  {
   "cell_type": "code",
   "execution_count": 3,
   "metadata": {},
   "outputs": [],
   "source": [
    "conn = connect()"
   ]
  },
  {
   "cell_type": "markdown",
   "metadata": {},
   "source": [
    "### Step 2. Receive data"
   ]
  },
  {
   "cell_type": "code",
   "execution_count": 4,
   "metadata": {},
   "outputs": [],
   "source": [
    "projects = ['TCGA-BLCA_BLCA_mc3.v0.2.8.WXS']\n",
    "genes = ['ERCC2', 'TP53', 'RB1', 'CDKN1A', 'KDM6A', 'ARID1A']\n",
    "\n",
    "# Mutation count data\n",
    "counts_df = conn.get_mutation_type_counts(projects)\n",
    "sbs_counts_df = conn.get_mutation_category_counts('SBS', projects)\n",
    "# Gene-level data\n",
    "gene_mut_df = conn.get_gene_mutation_data(genes, projects)\n",
    "gene_exp_df = conn.get_gene_expression_data(genes, projects)\n",
    "gene_cna_df = conn.get_copy_number_data(genes, projects)\n",
    "# Sample metadata\n",
    "samples_df = pd.DataFrame(index=sbs_counts_df.index.values.tolist(), columns=['Study'])\n",
    "samples_df['Study'] = 'TCGA-BLCA_BLCA_mc3.v0.2.8.WXS'\n",
    "clinical_df = conn.get_clinical_data(projects)"
   ]
  },
  {
   "cell_type": "markdown",
   "metadata": {},
   "source": [
    "### Step 3. Extract signatures"
   ]
  },
  {
   "cell_type": "code",
   "execution_count": 15,
   "metadata": {},
   "outputs": [],
   "source": [
    "sigs_df, exps_df = extract_signatures_Kim2016(sbs_counts_df)"
   ]
  },
  {
   "cell_type": "markdown",
   "metadata": {},
   "source": [
    "### Step 4. Send data"
   ]
  },
  {
   "cell_type": "code",
   "execution_count": 16,
   "metadata": {},
   "outputs": [],
   "source": [
    "conn.send_sample_metadata(samples_df)\n",
    "conn.send_mutation_type_counts(counts_df)\n",
    "conn.send_signatures('SBS', sigs_df)\n",
    "conn.send_exposures('SBS', exps_df)\n",
    "conn.send_gene_mutation_data(gene_mut_df)"
   ]
  },
  {
   "cell_type": "code",
   "execution_count": 17,
   "metadata": {},
   "outputs": [],
   "source": [
    "# Rename signatures\n",
    "sigs_df = sigs_df.rename(index={'Extracted Signature 4': 'Kim2016 5* (TCGA-130)'})\n",
    "exps_df = exps_df.rename(columns={'Extracted Signature 4': 'Kim2016 5* (TCGA-130)'})\n",
    "# Send renamed data\n",
    "conn.send_signatures('SBS', sigs_df)\n",
    "conn.send_exposures('SBS', exps_df)"
   ]
  },
  {
   "cell_type": "code",
   "execution_count": null,
   "metadata": {},
   "outputs": [],
   "source": []
  }
 ],
 "metadata": {
  "@webio": {
   "lastCommId": null,
   "lastKernelId": null
  },
  "kernelspec": {
   "display_name": "explosig-case-study-env",
   "language": "python",
   "name": "explosig-case-study-env"
  },
  "language_info": {
   "codemirror_mode": {
    "name": "ipython",
    "version": 3
   },
   "file_extension": ".py",
   "mimetype": "text/x-python",
   "name": "python",
   "nbconvert_exporter": "python",
   "pygments_lexer": "ipython3",
   "version": "3.8.0"
  }
 },
 "nbformat": 4,
 "nbformat_minor": 2
}
