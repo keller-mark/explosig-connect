{
  "nbformat": 4,
  "nbformat_minor": 0,
  "metadata": {
    "colab": {
      "name": "explosig-connect-demo.ipynb",
      "provenance": []
    },
    "kernelspec": {
      "name": "python3",
      "display_name": "Python 3"
    }
  },
  "cells": [
    {
      "cell_type": "markdown",
      "metadata": {
        "id": "LjFBt9OtU36W",
        "colab_type": "text"
      },
      "source": [
        "# ExploSig Connect Demo"
      ]
    },
    {
      "cell_type": "markdown",
      "metadata": {
        "id": "hehlagJGU8-D",
        "colab_type": "text"
      },
      "source": [
        "## Step 1. Install"
      ]
    },
    {
      "cell_type": "code",
      "metadata": {
        "id": "wqERMyrpUK1W",
        "colab_type": "code",
        "colab": {}
      },
      "source": [
        "!pip install explosig-connect"
      ],
      "execution_count": 0,
      "outputs": []
    },
    {
      "cell_type": "markdown",
      "metadata": {
        "id": "kSOmRUh3VCLT",
        "colab_type": "text"
      },
      "source": [
        "## Step 2. Import"
      ]
    },
    {
      "cell_type": "code",
      "metadata": {
        "id": "xsBEwrIxUTLc",
        "colab_type": "code",
        "colab": {}
      },
      "source": [
        "from explosig_connect import connect"
      ],
      "execution_count": 0,
      "outputs": []
    },
    {
      "cell_type": "markdown",
      "metadata": {
        "id": "dkzbBib_VKW3",
        "colab_type": "text"
      },
      "source": [
        "## Step 3. Connect!"
      ]
    },
    {
      "cell_type": "markdown",
      "metadata": {
        "id": "Bd0t3v7-VNih",
        "colab_type": "text"
      },
      "source": [
        "Executing the `connect` function with no parameters starts a new \"empty\" ExploSig session. On Colab, a new tab will be opened.\n",
        "\n",
        "There are alternative ways to access the new session that may be useful for other Python environments:\n",
        "- `connect(how='nb_link')` This prints the session URL as a link (in a Jupyter notebook).\n",
        "- `connect(how='nb_js')` This injects JavaScript to automatically open the session URL (in a Jupyter notebook).\n",
        "- `connect(how='browser')` This opens the session URL as a new tab (using the default browser)."
      ]
    },
    {
      "cell_type": "code",
      "metadata": {
        "id": "4jW37U_gUlz-",
        "colab_type": "code",
        "colab": {}
      },
      "source": [
        "conn = connect()"
      ],
      "execution_count": 0,
      "outputs": []
    },
    {
      "cell_type": "markdown",
      "metadata": {
        "id": "25SvFGdTXQMP",
        "colab_type": "text"
      },
      "source": [
        "## Step 4. Process data"
      ]
    },
    {
      "cell_type": "markdown",
      "metadata": {
        "id": "LqnfXHj0XclN",
        "colab_type": "text"
      },
      "source": [
        "This is where you would do some custom data analysis to obtain mutation signature data to send to ExploSig for visualization.\n",
        "\n",
        "To demonstrate this, we present an example in which we reproduce results from Kasar et al. \\[1\\]."
      ]
    },
    {
      "cell_type": "code",
      "metadata": {
        "id": "cLF8jZUwYkI9",
        "colab_type": "code",
        "colab": {}
      },
      "source": [
        "import pandas as pd\n",
        "\n",
        "# Load data\n",
        "data_url = \"https://raw.githubusercontent.com/keller-mark/explosig-connect/master/examples/data/{filename}\"\n",
        "# - counts data\n",
        "sbs_counts_nosplit_df = pd.read_csv(data_url.format(filename=\"counts.DFCI-30-Kasar2015.nosplit.WGS.SBS-96.tsv\"), sep='\\t', index_col=0)\n",
        "sbs_counts_nmd1000_df = pd.read_csv(data_url.format(filename=\"counts.DFCI-30-Kasar2015.nmd1000.WGS.SBS-96.tsv\"), sep='\\t', index_col=0)\n",
        "# - signatures and exposures data,\n",
        "#   preprocessed using the code here: https://github.com/keller-mark/Reproducing-Kasar2015\n",
        "sbs_sigs_nosplit_df = pd.read_csv(data_url.format(filename=\"nosplit_run_5_W.txt\"), sep='\\t', index_col=0).transpose()\n",
        "sbs_sigs_nmd1000_df = pd.read_csv(data_url.format(filename=\"nmd1000_run_30_W.txt\"), sep='\\t', index_col=0).transpose()\n",
        "sbs_exps_nosplit_df = pd.read_csv(data_url.format(filename=\"nosplit_run_5_H.txt\"), sep='\\t', index_col=0).transpose()\n",
        "sbs_exps_nmd1000_df = pd.read_csv(data_url.format(filename=\"nmd1000_run_30_H.txt\"), sep='\\t', index_col=0).transpose()\n",
        "\n",
        "\n",
        "# Generate mutation type counts df\n",
        "counts_nosplit_df = pd.DataFrame(index=sbs_counts_nosplit_df.index.values.tolist(), columns=[\"SBS\", \"DBS\", \"INDEL\"], data=[{\"SBS\": sbs_count, \"DBS\": 0, \"INDEL\": 0} for sbs_count in sbs_counts_nosplit_df.sum(axis=1).values.tolist()])\n",
        "counts_nmd1000_df = pd.DataFrame(index=sbs_counts_nmd1000_df.index.values.tolist(), columns=[\"SBS\", \"DBS\", \"INDEL\"], data=[{\"SBS\": sbs_count, \"DBS\": 0, \"INDEL\": 0} for sbs_count in sbs_counts_nmd1000_df.sum(axis=1).values.tolist()])\n",
        "\n",
        "# Generate samples metadata df\n",
        "sample_metadata_nosplit_df = pd.DataFrame(\n",
        "    index=sbs_counts_nosplit_df.index.values.tolist(),\n",
        "    columns=[\"Study\"],\n",
        "    data=[ {\"Study\": \"DFCI-30-Kasar2015\"} for sample_id in sbs_counts_nosplit_df.index.values.tolist() ]\n",
        ")\n",
        "sample_metadata_nmd1000_df = pd.DataFrame(\n",
        "    index=sbs_counts_nmd1000_df.index.values.tolist(),\n",
        "    columns=[\"Study\"],\n",
        "    data=[ {\"Study\": \"DFCI-30-Kasar2015\"} for sample_id in sbs_counts_nmd1000_df.index.values.tolist() ]\n",
        ")"
      ],
      "execution_count": 0,
      "outputs": []
    },
    {
      "cell_type": "markdown",
      "metadata": {
        "id": "LsgPpkJdZJGs",
        "colab_type": "text"
      },
      "source": [
        "## Step 5. Send data"
      ]
    },
    {
      "cell_type": "code",
      "metadata": {
        "id": "Fc4g15SgZRAv",
        "colab_type": "code",
        "colab": {}
      },
      "source": [
        "def send_nosplit_data():\n",
        "    conn.send_sample_metadata(sample_metadata_nosplit_df)\n",
        "    conn.send_mutation_type_counts(counts_nosplit_df)\n",
        "    conn.send_signatures('SBS', sbs_sigs_nosplit_df)\n",
        "    conn.send_exposures('SBS', sbs_exps_nosplit_df)\n",
        "\n",
        "def send_nmd1000_data():\n",
        "    conn.send_sample_metadata(sample_metadata_nmd1000_df)\n",
        "    conn.send_mutation_type_counts(counts_nmd1000_df)\n",
        "    conn.send_signatures('SBS', sbs_sigs_nmd1000_df)\n",
        "    conn.send_exposures('SBS', sbs_exps_nmd1000_df)\n",
        "\n",
        "\n",
        "# Uncomment the following line to send non-split data\n",
        "#send_nosplit_data()\n",
        "\n",
        "# Send split data\n",
        "send_nmd1000_data()\n"
      ],
      "execution_count": 0,
      "outputs": []
    },
    {
      "cell_type": "markdown",
      "metadata": {
        "id": "1t_mfwrwYLf3",
        "colab_type": "text"
      },
      "source": [
        "## References\n",
        "\\[1\\] Kasar S, Kim J, Improgo R, Tiao G, Polak P, Haradhvala N, Lawrence MS, Kiezun A, Fernandes SM, Bahl S, Sougnez C. Whole-genome sequencing reveals activation-induced cytidine deaminase signatures during indolent chronic lymphocytic leukaemia evolution. _Nature Communications_. 2015 Dec 7;6:8866."
      ]
    },
    {
      "cell_type": "code",
      "metadata": {
        "id": "CBwFvcftZlEt",
        "colab_type": "code",
        "colab": {}
      },
      "source": [
        ""
      ],
      "execution_count": 0,
      "outputs": []
    }
  ]
}